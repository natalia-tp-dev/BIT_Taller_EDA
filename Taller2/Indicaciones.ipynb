{
 "cells": [
  {
   "cell_type": "markdown",
   "id": "7caf1a39",
   "metadata": {
    "id": "7caf1a39"
   },
   "source": [
    "# Taller de Análisis Exploratorio de Datos (EDA)\n",
    "\n",
    "## Objetivo\n",
    "Realizar un análisis exploratorio detallado del dataset proporcionado, identificando patrones, distribuciones, relaciones y posibles problemas en los datos que deben ser abordados antes de construir modelos predictivos o realizar análisis más avanzados.\n",
    "\n",
    "---\n",
    "\n",
    "## Instrucciones Generales\n",
    "\n",
    "- El taller debe realizarse en equipos de **3 o 4 estudiantes**.\n",
    "- Se entrega un único informe por grupo.\n",
    "- La entrega debe incluir:\n",
    "  - Un **informe en Jupyter Notebook** (No se recibiran otros tipos de documentos)\n",
    "  - Todos los códigos utilizados para el análisis.\n",
    "  - Visualizaciones claras y bien comentadas.\n",
    "- Fecha de entrega: **09/09/2025**.\n",
    "- El dataset se entrega en formato `.xlsx`.\n",
    "\n",
    "---\n",
    "\n",
    "## Actividades del Taller\n",
    "\n",
    "### 1. Carga y revisión inicial de los datos\n",
    "- Cargar el dataset en un entorno como Jupyter Notebook.\n",
    "\n",
    "- Mostrar las primeras y últimas filas del dataset.\n",
    "- Verificar el número de filas y columnas.\n",
    "- Obtener información general del dataset (`.info()`).\n",
    "\n",
    "### 2. Tipos de datos y estructura\n",
    "- Identificar los tipos de datos de cada columna (numérico, categórico, fecha, booleano, etc.).\n",
    "- Verificar si hay columnas mal tipificadas.\n",
    "\n",
    "### 3. Valores nulos y duplicados\n",
    "- Contar y analizar la distribución de valores nulos por columna.\n",
    "- Decidir si imputar, eliminar o dejar los nulos justificadamente.\n",
    "- Revisar si hay filas duplicadas y decidir qué hacer con ellas.\n",
    "\n",
    "### 4. Análisis univariado\n",
    "#### Variables numéricas:\n",
    "- Calcular:\n",
    "  - Media\n",
    "  - Mediana\n",
    "  - Moda\n",
    "  - Mínimo\n",
    "  - Máximo\n",
    "  - Rango\n",
    "  - Desviación estándar\n",
    "  - Varianza\n",
    "- Visualizar distribución con:\n",
    "  - Histogramas\n",
    "  - Boxplots\n",
    "\n",
    "#### Variables categóricas:\n",
    "- Calcular:\n",
    "  - Frecuencia absoluta y relativa\n",
    "- Visualizar con:\n",
    "  - Gráficos de barras\n",
    "\n",
    "### 5. Análisis bivariado y correlaciones\n",
    "- Para variables numéricas:\n",
    "  - Calcular matriz de correlación.\n",
    "  - Visualizar las correlaciones con un mapa de calor (heatmap).\n",
    "- Para relaciones entre variables categóricas y numéricas:\n",
    "  - Boxplots agrupados\n",
    "  - Tablas de contingencia (Tablas Dinamicas)\n",
    "\n",
    "### 6. Detección de valores atípicos (outliers)\n",
    "- Detectar outliers usando:\n",
    "  - Boxplots\n",
    "- Analizar cómo afectan los valores extremos a los datos.\n",
    "\n",
    "### 7. Visualización temporal\n",
    "  - Gráfico de líneas para ver la evolución de ventas netas mes a mes.\n",
    "  - Gráfico de barras para ver el total de ventas brutas por día de la semana (lunes, martes, miércoles, etc).\n",
    "\n",
    "### 8. Insights y conclusiones\n",
    "- Extraer **al menos 5 hallazgos relevantes** del análisis.\n",
    "- Proponer **al menos 3 ideas** ideas para un análisis posterior\n",
    "\n",
    "---\n",
    "\n",
    "## Entregable final\n",
    "\n",
    "- Un notebook con todo el análisis y visualizaciones.\n",
    "- Comentarios en el código explicando lo que se hizo.\n",
    "- Un apartado de **conclusiones finales claras**.\n",
    "\n",
    "---\n",
    "\n",
    "¡Éxitos en su análisis!\n"
   ]
  },
  {
   "cell_type": "markdown",
   "id": "1531bdc1",
   "metadata": {
    "id": "1531bdc1"
   },
   "source": [
    "# Descripción de Variables del Dataset\n",
    "\n",
    "| Variable         | Descripción |\n",
    "|------------------|-------------|\n",
    "| **Order ID**     | Identificador único asignado a cada orden de compra. |\n",
    "| **Order Date**   | Fecha en que se realizó el pedido. |\n",
    "| **Ship Date**    | Fecha en que se despachó el pedido al cliente. |\n",
    "| **Ship Mode**    | Tipo de envío utilizado. |\n",
    "| **Customer ID**  | Identificador único del cliente. |\n",
    "| **Customer Name**| Nombre completo del cliente. |\n",
    "| **Segment**      | Segmento de mercado al que pertenece el cliente. |\n",
    "| **Country**      | País donde se entregó el pedido. |\n",
    "| **City**         | Ciudad de destino del pedido. |\n",
    "| **State**        | Estado o región dentro del país. |\n",
    "| **Postal Code**  | Código postal correspondiente al destino del pedido. |\n",
    "| **Region**       | Región geográfica. |\n",
    "| **Product ID**   | Identificador único del producto comprado. |\n",
    "| **Category**     | Categoría principal del producto. |\n",
    "| **Sub-Category** | Subcategoría específica del producto. |\n",
    "| **Product Name** | Nombre detallado del producto. |\n",
    "| **Sales**        | Valor total de la venta en dólares. |\n",
    "| **Quantity**     | Cantidad de unidades vendidas en esa línea de pedido. |\n",
    "| **Taxes**        | Valor de los impuestos aplicados a la venta. |\n",
    "| **Ship Cost**    | Costo del envío asumido. |\n",
    "| **Net Sales**    | Venta neta |\n",
    "| **Rating**       | Calificación o satisfacción del cliente sobre la compra. |"
   ]
  },
  {
   "cell_type": "code",
   "execution_count": 2,
   "id": "744eaa34",
   "metadata": {},
   "outputs": [
    {
     "data": {
      "text/plain": [
       "'juan'"
      ]
     },
     "execution_count": 2,
     "metadata": {},
     "output_type": "execute_result"
    }
   ],
   "source": []
  }
 ],
 "metadata": {
  "colab": {
   "provenance": []
  },
  "kernelspec": {
   "display_name": "Python 3",
   "language": "python",
   "name": "python3"
  },
  "language_info": {
   "codemirror_mode": {
    "name": "ipython",
    "version": 3
   },
   "file_extension": ".py",
   "mimetype": "text/x-python",
   "name": "python",
   "nbconvert_exporter": "python",
   "pygments_lexer": "ipython3",
   "version": "3.13.5"
  }
 },
 "nbformat": 4,
 "nbformat_minor": 5
}
